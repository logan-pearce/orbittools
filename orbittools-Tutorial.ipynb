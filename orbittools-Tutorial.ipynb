{
 "cells": [
  {
   "cell_type": "markdown",
   "metadata": {},
   "source": [
    "# orbittools\n",
    "Orbittools is a set of functions useful in working with 2-body problems and observations.  It's not not comprehensive nor particularly fancy, but it is useful.  Bascially I wanted a place to store and easily call functions I used all the time.  I'll update it sometimes."
   ]
  },
  {
   "cell_type": "code",
   "execution_count": 1,
   "metadata": {},
   "outputs": [],
   "source": [
    "from orbittools.orbittools import *"
   ]
  },
  {
   "cell_type": "markdown",
   "metadata": {},
   "source": [
    "orbittools contains some basic functions that it's nice to automate.  Here I'll show what they all do and what inputs look like. <br><br>\n",
    "\n",
    "**period** uses Kepler's third law to compute the period of a test particle with a certain semi-major axis in a Keplerian orbit around a central mass.  It can take astropy unit objects of any distance and mass and returns period in years:"
   ]
  },
  {
   "cell_type": "code",
   "execution_count": 2,
   "metadata": {},
   "outputs": [
    {
     "data": {
      "text/latex": [
       "$1 \\; \\mathrm{yr}$"
      ],
      "text/plain": [
       "<Quantity 1. yr>"
      ]
     },
     "execution_count": 2,
     "metadata": {},
     "output_type": "execute_result"
    }
   ],
   "source": [
    "period(1*u.au,1*u.Msun)"
   ]
  },
  {
   "cell_type": "code",
   "execution_count": 3,
   "metadata": {},
   "outputs": [
    {
     "data": {
      "text/latex": [
       "$0.99713598 \\; \\mathrm{yr}$"
      ],
      "text/plain": [
       "<Quantity 0.99713598 yr>"
      ]
     },
     "execution_count": 3,
     "metadata": {},
     "output_type": "execute_result"
    }
   ],
   "source": [
    "period(149.60e6*u.km,2e30*u.kg)"
   ]
  },
  {
   "cell_type": "markdown",
   "metadata": {},
   "source": [
    "Or if you enter values without units, it will return a number in years without an astropy unit.  You must enter semi-major axis in au and mass in solar masses to get the right answer"
   ]
  },
  {
   "cell_type": "code",
   "execution_count": 4,
   "metadata": {},
   "outputs": [
    {
     "data": {
      "text/plain": [
       "1.0"
      ]
     },
     "execution_count": 4,
     "metadata": {},
     "output_type": "execute_result"
    }
   ],
   "source": [
    "period(1,1)"
   ]
  },
  {
   "cell_type": "code",
   "execution_count": 5,
   "metadata": {},
   "outputs": [
    {
     "data": {
      "text/plain": [
       "0.0012938454188967088"
      ]
     },
     "execution_count": 5,
     "metadata": {},
     "output_type": "execute_result"
    }
   ],
   "source": [
    "period(149.60e6,2e30)"
   ]
  },
  {
   "cell_type": "markdown",
   "metadata": {},
   "source": [
    "**distance** uses the Bayesian estimation formulation given in Bailer-Jones 2015 to compute distance + error in parsecs given parallax + error in mas.  Designed to work with the output of Gaia parallaxes. <br><br>\n",
    "For example the distance to HR 8799 using Gaia's parallax is:"
   ]
  },
  {
   "cell_type": "code",
   "execution_count": 6,
   "metadata": {},
   "outputs": [
    {
     "data": {
      "text/plain": [
       "(41.29350566835295, 0.15020740717277492)"
      ]
     },
     "execution_count": 6,
     "metadata": {},
     "output_type": "execute_result"
    }
   ],
   "source": [
    "distance(24.217514232723282,0.08809423513976626)"
   ]
  },
  {
   "cell_type": "markdown",
   "metadata": {},
   "source": [
    "**to_polar** converts RA/DEC in degrees of two objects into their relative separation in mas and position angle in degrees."
   ]
  },
  {
   "cell_type": "markdown",
   "metadata": {},
   "source": [
    "For example, the wide stellar binary DS Tuc A and B both have well-defined solutions in Gaia DR2, and their separation and position angle is:"
   ]
  },
  {
   "cell_type": "code",
   "execution_count": 7,
   "metadata": {},
   "outputs": [
    {
     "data": {
      "text/plain": [
       "(<Quantity 5364.61187229 mas>, <Quantity 347.65815486 deg>)"
      ]
     },
     "execution_count": 7,
     "metadata": {},
     "output_type": "execute_result"
    }
   ],
   "source": [
    "deg_to_mas = 3600000.\n",
    "mas_to_deg = 1./3600000.\n",
    "\n",
    "RAa, RAaerr = 354.9154672903039, 0.03459837195273078*mas_to_deg\n",
    "DECa, DECaerr = -69.19604296286967, 0.02450688383611924*mas_to_deg\n",
    "RAb, RAberr = 354.914570528965, 0.028643873627224457*mas_to_deg\n",
    "DECb, DECberr = -69.19458723113503, 0.01971674184397741*mas_to_deg\n",
    "\n",
    "to_polar(RAa,RAb,DECa,DECb)"
   ]
  },
  {
   "cell_type": "markdown",
   "metadata": {},
   "source": [
    "You can do a quick Monte Carlo to get errors:"
   ]
  },
  {
   "cell_type": "code",
   "execution_count": 8,
   "metadata": {},
   "outputs": [
    {
     "name": "stdout",
     "output_type": "stream",
     "text": [
      "Separation = 5364.612076426886 mas +- 0.030608627492292793 mas\n",
      "PA = 347.6581557948317 deg +- 0.0001799794663820236 deg\n"
     ]
    }
   ],
   "source": [
    "seppa = to_polar(np.random.normal(RAa,RAaerr,10000),\n",
    "                 np.random.normal(RAb,RAberr,10000),\n",
    "                 np.random.normal(DECa,DECaerr,10000),\n",
    "                 np.random.normal(DECb,DECberr,10000))\n",
    "\n",
    "print('Separation =',np.median(seppa[0]),'+-',np.std(seppa[0]))\n",
    "print('PA =',np.median(seppa[1]),'+-',np.std(seppa[1]))"
   ]
  },
  {
   "cell_type": "markdown",
   "metadata": {},
   "source": [
    "**physical_separation** takes in the distance and angular separation between two objects and returns their physical separation in au.  Distance and angle must be astropy units."
   ]
  },
  {
   "cell_type": "code",
   "execution_count": 9,
   "metadata": {},
   "outputs": [
    {
     "data": {
      "text/latex": [
       "$0.31733244 \\; \\mathrm{AU}$"
      ],
      "text/plain": [
       "<Quantity 0.31733244 AU>"
      ]
     },
     "execution_count": 9,
     "metadata": {},
     "output_type": "execute_result"
    }
   ],
   "source": [
    "physical_separation(4.5*u.lyr,230*u.mas)"
   ]
  },
  {
   "cell_type": "markdown",
   "metadata": {},
   "source": [
    "**angular_separation** takes in distance and physical separation and returns angular separation in arcsec.  Distance and separation must be in astropy units."
   ]
  },
  {
   "cell_type": "code",
   "execution_count": 10,
   "metadata": {},
   "outputs": [
    {
     "data": {
      "text/latex": [
       "$0.22975905 \\; \\mathrm{{}^{\\prime\\prime}}$"
      ],
      "text/plain": [
       "<Quantity 0.22975905 arcsec>"
      ]
     },
     "execution_count": 10,
     "metadata": {},
     "output_type": "execute_result"
    }
   ],
   "source": [
    "angular_separation(4.5*u.lyr,0.317*u.au)"
   ]
  },
  {
   "cell_type": "markdown",
   "metadata": {},
   "source": [
    "**keplerian_to_cartesian** takes in keplerian orbital elements and returns the observed 3D position, velocity, and acceleration vectors in a right-handed system with +X = +DEC, +Y = +RA, +Z = towards the observer."
   ]
  },
  {
   "cell_type": "markdown",
   "metadata": {},
   "source": [
    "Let's look at the inputs:"
   ]
  },
  {
   "cell_type": "code",
   "execution_count": 11,
   "metadata": {},
   "outputs": [
    {
     "name": "stdout",
     "output_type": "stream",
     "text": [
      "Help on function keplerian_to_cartesian in module orbittools.orbittools:\n",
      "\n",
      "keplerian_to_cartesian(sma, ecc, inc, argp, lon, meananom, kep)\n",
      "    Given a set of Keplerian orbital elements, returns the observable 3-dimensional position, velocity, \n",
      "    and acceleration at the specified time.  Accepts and arbitrary number of input orbits.  Semi-major \n",
      "    axis must be an astropy unit object in physical distance (ex: au, but not arcsec).  The observation\n",
      "    time must be converted into mean anomaly before passing into function.\n",
      "    Inputs:\n",
      "        sma (1xN arr flt) [au]: semi-major axis in au, must be an astropy units object\n",
      "        ecc (1xN arr flt) [unitless]: eccentricity\n",
      "        inc (1xN arr flt) [deg]: inclination\n",
      "        argp (1xN arr flt) [deg]: argument of periastron\n",
      "        lon (1xN arr flt) [deg]: longitude of ascending node\n",
      "        meananom (1xN arr flt) [radians]: mean anomaly \n",
      "        kep (1xN arr flt): kepler constant = mu/m where mu = G*m1*m2 and m = [1/m1 + 1/m2]^-1 . \n",
      "                    In the limit of m1>>m2, mu = G*m1 and m = m2\n",
      "    Returns:\n",
      "        pos (3xN arr) [au]: position in xyz coords in au, with \n",
      "                    x = pos[0], y = pos[1], z = pos[2] for each of N orbits\n",
      "                    +x = +Dec, +y = +RA, +z = towards observer\n",
      "        vel (3xN arr) [km/s]: velocity in xyz plane.\n",
      "        acc (3xN arr) [km/s/yr]: acceleration in xyz plane.\n",
      "    Written by Logan Pearce, 2019, inspired by Sarah Blunt\n",
      "\n"
     ]
    }
   ],
   "source": [
    "help(keplerian_to_cartesian)"
   ]
  },
  {
   "cell_type": "code",
   "execution_count": 12,
   "metadata": {},
   "outputs": [
    {
     "name": "stdout",
     "output_type": "stream",
     "text": [
      "pos [ 0.78520989 -4.00711834  2.49057801] AU\n",
      "vel [10.72701811  4.13036521  8.25981672] km / s\n",
      "acc [-1.34637308  6.84964031 -4.26121914] km / (s yr)\n"
     ]
    }
   ],
   "source": [
    "sma = 5.2*u.au\n",
    "ecc = 0.2\n",
    "inc = 46\n",
    "argp = 329\n",
    "lon = 245\n",
    "to = 2017.5*u.yr\n",
    "t = 2019.34*u.yr\n",
    "m1 = 1*u.Msun\n",
    "m2 = 0.2*u.Msun\n",
    "mu = c.G*m1*m2\n",
    "m = m2\n",
    "kep = mu/m\n",
    "per = period(sma,m1)\n",
    "#print(per)\n",
    "\n",
    "meanmotion = np.sqrt(kep/(sma**3)).to(1/u.s)\n",
    "meananom = meanmotion*((t-to).to(u.s))\n",
    "\n",
    "pos, vel, acc = keplerian_to_cartesian(sma,ecc,inc,argp,lon,meananom.value,kep)\n",
    "print('pos',pos)\n",
    "print('vel',vel)\n",
    "print('acc',acc)"
   ]
  },
  {
   "cell_type": "markdown",
   "metadata": {},
   "source": [
    "It can also return observables for an array of orbits. <br><br>\n",
    "\n",
    "Let's generate 10 trial orbits using the **draw_orbits** function, which draws an array of orbital parameters from priors described in Pearce et al. 2019.  SMA and Long of Nodes are fixed at 100. AU and 0 deg respectively as part of the Orbits for the Imaptient procedure (OFTI; Blunt et al. 2017), because draw_orbits was written as part of that procedure.  For more, see those papers and the **lofti** python package.\n",
    "\n",
    "**keplerian_to_cartesian** returns a 3xN array of observables for each of the N orbits input."
   ]
  },
  {
   "cell_type": "code",
   "execution_count": 16,
   "metadata": {},
   "outputs": [
    {
     "name": "stdout",
     "output_type": "stream",
     "text": [
      "pos [[ -67.77294331   -1.8393458    19.47052144]\n",
      " [ -77.17461462    3.15548293    7.05064809]\n",
      " [-143.45286343  -10.82848091  -46.01202379]\n",
      " [  81.00668142  -58.68805504  -54.09916137]\n",
      " [ 192.09148214  -37.52924613   26.41629592]\n",
      " [ -76.37061185   67.60231574   80.46728074]\n",
      " [  22.07941865    2.00999668    2.36444801]\n",
      " [ -21.46273727  -32.49869347  -49.92689809]\n",
      " [ -34.84265082   20.70483422   57.80125155]\n",
      " [  69.25666329   15.39825834  -54.4231958 ]] AU\n",
      "vel [[ 0.01022346  0.37949517 -4.01717216]\n",
      " [-2.36871988 -1.18350478 -2.64443698]\n",
      " [-0.46631186 -0.37349477 -1.58704166]\n",
      " [ 1.87894989  1.31523042  1.21239088]\n",
      " [-0.18040457 -0.23106871  0.16264594]\n",
      " [-2.05726617 -0.4785954  -0.56967383]\n",
      " [-6.42170584  3.51583124  4.13582781]\n",
      " [ 1.90350112  2.14953812  3.30227955]\n",
      " [-1.49989615 -1.26231379 -3.52397493]\n",
      " [ 2.8074744  -0.47850699  1.69122242]] km / s\n",
      "acc [[ 0.03613682  0.0009807  -0.01038131]\n",
      " [ 0.03095409 -0.00126553 -0.00282771]\n",
      " [ 0.00779106  0.00058811  0.00249897]\n",
      " [-0.01030705  0.00746722  0.00688335]\n",
      " [-0.00466644  0.00091169 -0.00064173]\n",
      " [ 0.00651822 -0.00576981 -0.00686782]\n",
      " [-0.37281028 -0.03395334 -0.03994081]\n",
      " [ 0.01582063  0.02395558  0.03680233]\n",
      " [ 0.0185337  -0.01101319 -0.0307453 ]\n",
      " [-0.01812843 -0.00403055  0.01424545]] km / (s yr)\n"
     ]
    }
   ],
   "source": [
    "m1 = 1*u.Msun\n",
    "m2 = 0.2*u.Msun\n",
    "mu = c.G*m1*m2\n",
    "m = m2\n",
    "kep = mu/m\n",
    "obsdate = 2019.34\n",
    "\n",
    "sma, ecc, inc, argp, lon, orbit_fraction = draw_orbits(10)\n",
    "meananom = orbit_fraction*2*np.pi\n",
    "\n",
    "pos, vel, acc = keplerian_to_cartesian(sma*u.au,ecc,inc,argp,lon,meananom,kep)\n",
    "print('pos',pos)\n",
    "print('vel',vel)\n",
    "print('acc',acc)"
   ]
  },
  {
   "cell_type": "markdown",
   "metadata": {},
   "source": [
    "**cartesian_to_keplerian** takes in the 3D position and velocity array and returns the orbital parameters (as astropy unit objects) that would generate those observables.  As of now, it can only handle a single orbit at a time.\n",
    "\n",
    "<br><br>\n",
    "Let's take that single orbit from before:"
   ]
  },
  {
   "cell_type": "code",
   "execution_count": 22,
   "metadata": {},
   "outputs": [
    {
     "name": "stdout",
     "output_type": "stream",
     "text": [
      "mean anomaly: 0.9749547815875452\n",
      "pos [ 0.78520989 -4.00711834  2.49057801] AU\n",
      "vel [10.72701811  4.13036521  8.25981672] km / s\n",
      "acc [-1.34637308  6.84964031 -4.26121914] km / (s yr)\n"
     ]
    }
   ],
   "source": [
    "sma = 5.2*u.au\n",
    "ecc = 0.2\n",
    "inc = 46\n",
    "argp = 329\n",
    "lon = 245\n",
    "to = 2017.5*u.yr\n",
    "t = 2019.34*u.yr\n",
    "m1 = 1*u.Msun\n",
    "m2 = 0.2*u.Msun\n",
    "mu = c.G*m1*m2\n",
    "m = m2\n",
    "kep = mu/m\n",
    "per = period(sma,m1)\n",
    "\n",
    "meanmotion = np.sqrt(kep/(sma**3)).to(1/u.s)\n",
    "meananom = meanmotion*((t-to).to(u.s))\n",
    "print('mean anomaly:',meananom)\n",
    "\n",
    "pos, vel, acc = keplerian_to_cartesian(sma,ecc,inc,argp,lon,meananom.value,kep)\n",
    "print('pos',pos)\n",
    "print('vel',vel)\n",
    "print('acc',acc)"
   ]
  },
  {
   "cell_type": "markdown",
   "metadata": {},
   "source": [
    "And compute the orbital elements:"
   ]
  },
  {
   "cell_type": "code",
   "execution_count": 23,
   "metadata": {},
   "outputs": [
    {
     "data": {
      "text/plain": [
       "(<Quantity 5.2 AU>,\n",
       " <Quantity 0.2>,\n",
       " <Quantity 46. deg>,\n",
       " <Quantity 329. deg>,\n",
       " <Quantity 245. deg>,\n",
       " <Quantity 0.9749548>)"
      ]
     },
     "execution_count": 23,
     "metadata": {},
     "output_type": "execute_result"
    }
   ],
   "source": [
    "cartesian_to_keplerian(pos,vel,kep)"
   ]
  },
  {
   "cell_type": "markdown",
   "metadata": {},
   "source": [
    "Looks good!"
   ]
  },
  {
   "cell_type": "code",
   "execution_count": null,
   "metadata": {},
   "outputs": [],
   "source": []
  }
 ],
 "metadata": {
  "kernelspec": {
   "display_name": "Python 3",
   "language": "python",
   "name": "python3"
  },
  "language_info": {
   "codemirror_mode": {
    "name": "ipython",
    "version": 3
   },
   "file_extension": ".py",
   "mimetype": "text/x-python",
   "name": "python",
   "nbconvert_exporter": "python",
   "pygments_lexer": "ipython3",
   "version": "3.7.3"
  }
 },
 "nbformat": 4,
 "nbformat_minor": 2
}
