{
 "cells": [
  {
   "cell_type": "markdown",
   "metadata": {},
   "source": [
    "# orbittools\n",
    "Orbittools is a set of functions useful in working with 2-body problems and observations.  It's not not comprehensive nor particularly fancy, but it is useful.  Bascially I wanted a place to store and easily call functions I used all the time.  I'll update it sometimes."
   ]
  },
  {
   "cell_type": "code",
   "execution_count": 1,
   "metadata": {},
   "outputs": [],
   "source": [
    "from orbittools.orbittools import *"
   ]
  },
  {
   "cell_type": "markdown",
   "metadata": {},
   "source": [
    "orbittools contains some basic functions that it's nice to automate.  Here I'll show what they all do and what inputs look like. <br><br>\n",
    "\n",
    "**period** uses Kepler's third law to compute the period of a test particle with a certain semi-major axis in a Keplerian orbit around a central mass.  It can take astropy unit objects of any distance and mass and returns period in years:"
   ]
  },
  {
   "cell_type": "code",
   "execution_count": 2,
   "metadata": {},
   "outputs": [
    {
     "data": {
      "text/latex": [
       "$1 \\; \\mathrm{yr}$"
      ],
      "text/plain": [
       "<Quantity 1. yr>"
      ]
     },
     "execution_count": 2,
     "metadata": {},
     "output_type": "execute_result"
    }
   ],
   "source": [
    "period(1*u.au,1*u.Msun)"
   ]
  },
  {
   "cell_type": "code",
   "execution_count": 3,
   "metadata": {},
   "outputs": [
    {
     "data": {
      "text/latex": [
       "$0.99713598 \\; \\mathrm{yr}$"
      ],
      "text/plain": [
       "<Quantity 0.99713598 yr>"
      ]
     },
     "execution_count": 3,
     "metadata": {},
     "output_type": "execute_result"
    }
   ],
   "source": [
    "period(149.60e6*u.km,2e30*u.kg)"
   ]
  },
  {
   "cell_type": "markdown",
   "metadata": {},
   "source": [
    "Or if you enter values without units, it will return a number in years without an astropy unit.  You must enter semi-major axis in au and mass in solar masses to get the right answer"
   ]
  },
  {
   "cell_type": "code",
   "execution_count": 6,
   "metadata": {},
   "outputs": [
    {
     "data": {
      "text/plain": [
       "1.0"
      ]
     },
     "execution_count": 6,
     "metadata": {},
     "output_type": "execute_result"
    }
   ],
   "source": [
    "# With sma in AU and mass in Msol:\n",
    "period(1,1)\n",
    "# returns correct period in years"
   ]
  },
  {
   "cell_type": "code",
   "execution_count": 8,
   "metadata": {},
   "outputs": [
    {
     "data": {
      "text/plain": [
       "0.0012938454188967088"
      ]
     },
     "execution_count": 8,
     "metadata": {},
     "output_type": "execute_result"
    }
   ],
   "source": [
    "# With both in mks units:\n",
    "period(149.60e6,2e30)\n",
    "# returns the wrong answer"
   ]
  },
  {
   "cell_type": "markdown",
   "metadata": {},
   "source": [
    "---\n",
    "**distance** uses the Bayesian estimation formulation given in Bailer-Jones 2015 to compute distance + error in parsecs given parallax + error in mas.  Designed to work with the output of Gaia parallaxes. <br><br>\n",
    "For example the distance to HR 8799 using Gaia's parallax is:"
   ]
  },
  {
   "cell_type": "code",
   "execution_count": 9,
   "metadata": {},
   "outputs": [
    {
     "data": {
      "text/plain": [
       "(41.29350566835295, 0.15020740717277492)"
      ]
     },
     "execution_count": 9,
     "metadata": {},
     "output_type": "execute_result"
    }
   ],
   "source": [
    "# Parallax and error in mas:\n",
    "distance(24.217514232723282,0.08809423513976626)"
   ]
  },
  {
   "cell_type": "markdown",
   "metadata": {},
   "source": [
    "------\n",
    "**to_polar** converts RA/DEC in degrees of two objects into their relative separation in mas and position angle in degrees."
   ]
  },
  {
   "cell_type": "markdown",
   "metadata": {},
   "source": [
    "For example, the wide stellar binary DS Tuc A and B both have well-defined solutions in Gaia DR2, and their separation and position angle is:"
   ]
  },
  {
   "cell_type": "code",
   "execution_count": 10,
   "metadata": {},
   "outputs": [
    {
     "data": {
      "text/plain": [
       "(<Quantity 5364.61187229 mas>, <Quantity 347.65815486 deg>)"
      ]
     },
     "execution_count": 10,
     "metadata": {},
     "output_type": "execute_result"
    }
   ],
   "source": [
    "deg_to_mas = 3600000.\n",
    "mas_to_deg = 1./3600000.\n",
    "\n",
    "RAa, RAaerr = 354.9154672903039, 0.03459837195273078*mas_to_deg\n",
    "DECa, DECaerr = -69.19604296286967, 0.02450688383611924*mas_to_deg\n",
    "RAb, RAberr = 354.914570528965, 0.028643873627224457*mas_to_deg\n",
    "DECb, DECberr = -69.19458723113503, 0.01971674184397741*mas_to_deg\n",
    "\n",
    "to_polar(RAa,RAb,DECa,DECb)"
   ]
  },
  {
   "cell_type": "markdown",
   "metadata": {},
   "source": [
    "You can do a quick Monte Carlo to get errors:"
   ]
  },
  {
   "cell_type": "code",
   "execution_count": 11,
   "metadata": {},
   "outputs": [
    {
     "name": "stdout",
     "output_type": "stream",
     "text": [
      "Separation = 5364.612194537264 mas +- 0.03106503026279128 mas\n",
      "PA = 347.6581543294433 deg +- 0.00018115002210299626 deg\n"
     ]
    }
   ],
   "source": [
    "seppa = to_polar(np.random.normal(RAa,RAaerr,10000),\n",
    "                 np.random.normal(RAb,RAberr,10000),\n",
    "                 np.random.normal(DECa,DECaerr,10000),\n",
    "                 np.random.normal(DECb,DECberr,10000))\n",
    "\n",
    "print('Separation =',np.median(seppa[0]),'+-',np.std(seppa[0]))\n",
    "print('PA =',np.median(seppa[1]),'+-',np.std(seppa[1]))"
   ]
  },
  {
   "cell_type": "markdown",
   "metadata": {},
   "source": [
    "------\n",
    "**physical_separation** takes in the distance and angular separation between two objects and returns their physical separation in au.  Distance and angle must be astropy units."
   ]
  },
  {
   "cell_type": "code",
   "execution_count": 12,
   "metadata": {},
   "outputs": [
    {
     "data": {
      "text/latex": [
       "$0.31733244 \\; \\mathrm{AU}$"
      ],
      "text/plain": [
       "<Quantity 0.31733244 AU>"
      ]
     },
     "execution_count": 12,
     "metadata": {},
     "output_type": "execute_result"
    }
   ],
   "source": [
    "physical_separation(4.5*u.lyr,230*u.mas)"
   ]
  },
  {
   "cell_type": "markdown",
   "metadata": {},
   "source": [
    "**angular_separation** takes in distance and physical separation and returns angular separation in arcsec.  Distance and separation must be in astropy units."
   ]
  },
  {
   "cell_type": "code",
   "execution_count": 13,
   "metadata": {},
   "outputs": [
    {
     "data": {
      "text/latex": [
       "$0.22975905 \\; \\mathrm{{}^{\\prime\\prime}}$"
      ],
      "text/plain": [
       "<Quantity 0.22975905 arcsec>"
      ]
     },
     "execution_count": 13,
     "metadata": {},
     "output_type": "execute_result"
    }
   ],
   "source": [
    "angular_separation(4.5*u.lyr,0.317*u.au)"
   ]
  },
  {
   "cell_type": "markdown",
   "metadata": {},
   "source": [
    "-------\n",
    "**keplerian_to_cartesian** takes in keplerian orbital elements and returns the observed 3D position, velocity, and acceleration vectors in a right-handed system with +X = +DEC, +Y = +RA, +Z = towards the observer."
   ]
  },
  {
   "cell_type": "markdown",
   "metadata": {},
   "source": [
    "Let's look at the inputs:"
   ]
  },
  {
   "cell_type": "code",
   "execution_count": 14,
   "metadata": {},
   "outputs": [
    {
     "name": "stdout",
     "output_type": "stream",
     "text": [
      "Help on function keplerian_to_cartesian in module orbittools.orbittools:\n",
      "\n",
      "keplerian_to_cartesian(sma, ecc, inc, argp, lon, meananom, kep)\n",
      "    Given a set of Keplerian orbital elements, returns the observable 3-dimensional position, velocity, \n",
      "    and acceleration at the specified time.  Accepts and arbitrary number of input orbits.  Semi-major \n",
      "    axis must be an astropy unit object in physical distance (ex: au, but not arcsec).  The observation\n",
      "    time must be converted into mean anomaly before passing into function.\n",
      "    Inputs:\n",
      "        sma (1xN arr flt) [au]: semi-major axis in au, must be an astropy units object\n",
      "        ecc (1xN arr flt) [unitless]: eccentricity\n",
      "        inc (1xN arr flt) [deg]: inclination\n",
      "        argp (1xN arr flt) [deg]: argument of periastron\n",
      "        lon (1xN arr flt) [deg]: longitude of ascending node\n",
      "        meananom (1xN arr flt) [radians]: mean anomaly \n",
      "        kep (1xN arr flt): kepler constant = mu/m where mu = G*m1*m2 and m = [1/m1 + 1/m2]^-1 . \n",
      "                    In the limit of m1>>m2, mu = G*m1 and m = m2\n",
      "    Returns:\n",
      "        pos (3xN arr) [au]: position in xyz coords in au, with \n",
      "                    x = pos[0], y = pos[1], z = pos[2] for each of N orbits\n",
      "                    +x = +Dec, +y = +RA, +z = towards observer\n",
      "        vel (3xN arr) [km/s]: velocity in xyz plane.\n",
      "        acc (3xN arr) [km/s/yr]: acceleration in xyz plane.\n",
      "    Written by Logan Pearce, 2019, inspired by Sarah Blunt\n",
      "\n"
     ]
    }
   ],
   "source": [
    "help(keplerian_to_cartesian)"
   ]
  },
  {
   "cell_type": "code",
   "execution_count": 20,
   "metadata": {},
   "outputs": [
    {
     "name": "stdout",
     "output_type": "stream",
     "text": [
      "pos [ 1.17761827 -3.83254452  2.78245744] AU\n",
      "vel [11.43785945  5.77753521  8.2060902 ] km / s\n",
      "acc [-2.27896998  7.3993635  -5.37704747] km / (s yr)\n"
     ]
    }
   ],
   "source": [
    "# orbital elements:\n",
    "sma = 5.2*u.au\n",
    "ecc = 0.2\n",
    "inc = 46\n",
    "argp = 329\n",
    "lon = 245\n",
    "# Pick a reference date:\n",
    "to = 2017.5*u.yr\n",
    "# Observation date:\n",
    "t = 2019.34*u.yr\n",
    "# Masses of the two objects:\n",
    "m1 = 1*u.Msun\n",
    "m2 = 0.2*u.Msun\n",
    "# Compute Kepler's constant:\n",
    "mu = c.G*m1*m2\n",
    "m = (1/m2+1/m1)**(-1)\n",
    "kep = mu/m\n",
    "# Compute period using orbittools.period function:\n",
    "per = period(sma,(m1+m2))\n",
    "#print(per)\n",
    "\n",
    "meanmotion = np.sqrt(kep/(sma**3)).to(1/u.s)\n",
    "meananom = meanmotion*((t-to).to(u.s))\n",
    "\n",
    "pos, vel, acc = keplerian_to_cartesian(sma,ecc,inc,argp,lon,meananom.value,kep)\n",
    "print('pos',pos)\n",
    "print('vel',vel)\n",
    "print('acc',acc)"
   ]
  },
  {
   "cell_type": "markdown",
   "metadata": {},
   "source": [
    "It can also return observables for an array of orbits. <br><br>"
   ]
  },
  {
   "cell_type": "markdown",
   "metadata": {},
   "source": [
    "Or we can use the **keplersconstant** function to compute Kepler's constant:"
   ]
  },
  {
   "cell_type": "code",
   "execution_count": 18,
   "metadata": {},
   "outputs": [
    {
     "name": "stdout",
     "output_type": "stream",
     "text": [
      "1.59254928e+20 m3 / s2\n",
      "1.59254928e+20 m3 / s2\n"
     ]
    }
   ],
   "source": [
    "# Calc from above:\n",
    "print(kep.to(u.m**3/u.s**2))\n",
    "# keplersconstant function:\n",
    "print(keplersconstant(m1,m2))"
   ]
  },
  {
   "cell_type": "markdown",
   "metadata": {},
   "source": [
    "Let's generate 10 trial orbits using the **draw_orbits** function, which draws an array of orbital parameters from priors described in Pearce et al. 2019.  SMA and Long of Nodes are fixed at 100. AU and 0 deg respectively as part of the Orbits for the Imaptient procedure (OFTI; Blunt et al. 2017), because draw_orbits was written as part of that procedure.  For more, see those papers and the **lofti** python package.\n",
    "\n",
    "**keplerian_to_cartesian** returns a 3xN array of observables for each of the N orbits input."
   ]
  },
  {
   "cell_type": "code",
   "execution_count": 19,
   "metadata": {},
   "outputs": [
    {
     "name": "stdout",
     "output_type": "stream",
     "text": [
      "pos [[  98.24653551   -3.93080093   -5.12152856]\n",
      " [  62.65059471 -154.03210979   80.53670923]\n",
      " [ -99.98510541    8.65962581  -23.6225345 ]\n",
      " [  50.0369777     0.66542004    2.56628366]\n",
      " [  -1.33288322  -39.4718893    58.29518851]\n",
      " [ -90.56341172   42.05329512  -37.61865038]\n",
      " [ -35.67982944  -14.6414141    84.71385244]\n",
      " [  77.57152507  -20.54985557   14.91263429]\n",
      " [ -40.68857851   71.19262366   24.66974907]\n",
      " [ -81.71714264   39.11767133   67.43972405]] AU\n",
      "vel [[ 1.85487755  1.67165991  2.17804312]\n",
      " [-0.60110889 -0.63695121  0.33303416]\n",
      " [-2.14184417  0.80110621 -2.18533219]\n",
      " [ 5.54227627  0.26665664  1.02839791]\n",
      " [-4.38596473 -0.33393876  0.49318701]\n",
      " [ 1.88580951  1.78749052 -1.59899434]\n",
      " [-3.26853367 -0.21169983  1.22487539]\n",
      " [-1.98777794 -2.74325161  1.99072485]\n",
      " [-3.77060376  0.02925324  0.01013687]\n",
      " [-2.32567312 -0.83912169 -1.44666421]] km / s\n",
      "acc [[-0.02311544  0.00092475  0.00120488]\n",
      " [-0.00223064  0.00548424 -0.00286747]\n",
      " [ 0.0204868  -0.00177437  0.0048403 ]\n",
      " [-0.08931351 -0.00118781 -0.00458097]\n",
      " [ 0.00085794  0.02538952 -0.03749724]\n",
      " [ 0.01674082 -0.00777374  0.00695397]\n",
      " [ 0.00993578  0.00407713 -0.02358992]\n",
      " [-0.03203609  0.00848712 -0.00615894]\n",
      " [ 0.01455255 -0.02546203 -0.00882313]\n",
      " [ 0.01273763 -0.00609739 -0.01051203]] km / (s yr)\n"
     ]
    }
   ],
   "source": [
    "m1 = 1*u.Msun\n",
    "m2 = 0.2*u.Msun\n",
    "kep = keplersconstant(m1,m2)\n",
    "obsdate = 2019.34\n",
    "\n",
    "sma, ecc, inc, argp, lon, orbit_fraction = draw_orbits(10)\n",
    "meananom = orbit_fraction*2*np.pi\n",
    "\n",
    "pos, vel, acc = keplerian_to_cartesian(sma*u.au,ecc,inc,argp,lon,meananom,kep)\n",
    "print('pos',pos)\n",
    "print('vel',vel)\n",
    "print('acc',acc)"
   ]
  },
  {
   "cell_type": "markdown",
   "metadata": {},
   "source": [
    "----\n",
    "**cartesian_to_keplerian** takes in the 3D position and velocity array and returns the orbital parameters (as astropy unit objects) that would generate those observables.  As of now, it can only handle a single orbit at a time.\n",
    "\n",
    "<br><br>\n",
    "Let's take that single orbit from before:"
   ]
  },
  {
   "cell_type": "code",
   "execution_count": 21,
   "metadata": {},
   "outputs": [
    {
     "name": "stdout",
     "output_type": "stream",
     "text": [
      "mean anomaly: 1.068009452846042\n",
      "pos [ 1.17761827 -3.83254452  2.78245744] AU\n",
      "vel [11.43785945  5.77753521  8.2060902 ] km / s\n",
      "acc [-2.27896998  7.3993635  -5.37704747] km / (s yr)\n"
     ]
    }
   ],
   "source": [
    "sma = 5.2*u.au\n",
    "ecc = 0.2\n",
    "inc = 46\n",
    "argp = 329\n",
    "lon = 245\n",
    "to = 2017.5*u.yr\n",
    "t = 2019.34*u.yr\n",
    "m1 = 1*u.Msun\n",
    "m2 = 0.2*u.Msun\n",
    "kep = keplersconstant(m1,m2)\n",
    "per = period(sma,(m1+m2))\n",
    "\n",
    "meanmotion = np.sqrt(kep/(sma**3)).to(1/u.s)\n",
    "meananom = meanmotion*((t-to).to(u.s))\n",
    "print('mean anomaly:',meananom)\n",
    "\n",
    "pos, vel, acc = keplerian_to_cartesian(sma,ecc,inc,argp,lon,meananom.value,kep)\n",
    "print('pos',pos)\n",
    "print('vel',vel)\n",
    "print('acc',acc)"
   ]
  },
  {
   "cell_type": "markdown",
   "metadata": {},
   "source": [
    "And compute the orbital elements:"
   ]
  },
  {
   "cell_type": "code",
   "execution_count": 22,
   "metadata": {},
   "outputs": [
    {
     "data": {
      "text/plain": [
       "(<Quantity 5.2 AU>,\n",
       " <Quantity 0.2>,\n",
       " <Quantity 46. deg>,\n",
       " <Quantity 329. deg>,\n",
       " <Quantity 245. deg>,\n",
       " <Quantity 1.06800951>)"
      ]
     },
     "execution_count": 22,
     "metadata": {},
     "output_type": "execute_result"
    }
   ],
   "source": [
    "cartesian_to_keplerian(pos,vel,kep)"
   ]
  },
  {
   "cell_type": "markdown",
   "metadata": {},
   "source": [
    "Looks good!"
   ]
  },
  {
   "cell_type": "markdown",
   "metadata": {},
   "source": [
    "---------------\n",
    "**kepler_advancer** solves the Kepler initial value problem.  Given an initial position and\n",
    "       velocity vector (in 2 or 3 dimensions; in any reference frame\n",
    "        [plane of the sky or plane of the orbit]) at an initial time to,\n",
    "        compute the position and velocity vector at a later time t in \n",
    "        that same frame.  <br>\n",
    "This allows you to compute the position/velocity at some later time without knowing the orbital elements in advance (unlike **kepler_to_cartesian** that requires all orbital elements to be specified).\n",
    "        \n",
    "Let's take the same orbital elements from above."
   ]
  },
  {
   "cell_type": "code",
   "execution_count": 23,
   "metadata": {},
   "outputs": [],
   "source": [
    "sma = 5.2*u.au\n",
    "ecc = 0.2\n",
    "inc = 46\n",
    "argp = 329\n",
    "lon = 245\n",
    "# Pick some times\n",
    "# Reference epoch:\n",
    "to = 2017.5*u.yr\n",
    "# observation epoch:\n",
    "t = 2019.34*u.yr\n",
    "# Pick some masses\n",
    "m1 = 1*u.Msun\n",
    "m2 = 0.2*u.Msun\n",
    "kep = keplersconstant(m1,m2)"
   ]
  },
  {
   "cell_type": "markdown",
   "metadata": {},
   "source": [
    "Let's compute the position/velociy/acceleration at the reference time to:"
   ]
  },
  {
   "cell_type": "code",
   "execution_count": 25,
   "metadata": {},
   "outputs": [
    {
     "name": "stdout",
     "output_type": "stream",
     "text": [
      "At time=t, the pos, vel, and accel are:\n",
      "pos1 [ 1.17761827 -3.83254452  2.78245744] AU\n",
      "vel1 [11.43785945  5.77753521  8.2060902 ] km / s\n",
      "acc1 [-2.27896998  7.3993635  -5.37704747] km / (s yr)\n"
     ]
    }
   ],
   "source": [
    "# Compute mean anomaly for time = t:\n",
    "meanmotion = np.sqrt(kep/(sma**3)).to(1/u.s)\n",
    "meananom = meanmotion*((t-to).to(u.s))\n",
    "pos1, vel1, acc1 = keplerian_to_cartesian(sma,ecc,inc,argp,lon,meananom.value,kep)\n",
    "print('At time=t, the pos, vel, and accel are:')\n",
    "print('pos1',pos1)\n",
    "print('vel1',vel1)\n",
    "print('acc1',acc1)"
   ]
  },
  {
   "cell_type": "markdown",
   "metadata": {},
   "source": [
    "This will make our initial position and velocity vectors.\n",
    "\n",
    "Now, let's use **kepler_advancer** to find the position and velocity at some later time using only the initial position/velocity:"
   ]
  },
  {
   "cell_type": "code",
   "execution_count": 26,
   "metadata": {},
   "outputs": [
    {
     "name": "stdout",
     "output_type": "stream",
     "text": [
      "Help on function kepler_advancer in module orbittools.orbittools:\n",
      "\n",
      "kepler_advancer(ro, vo, t, k, to=0)\n",
      "    Initial value problem solver.  Given an initial position and\n",
      "     velocity vector (in 2 or 3 dimensions; in any reference frame\n",
      "     [plane of the sky, plane of the orbit]) at an initial time to,\n",
      "     compute the position and velocity vector at a later time t in \n",
      "     that same frame.\n",
      "    \n",
      "     Written by Logan A. Pearce, 2020\n",
      "     \n",
      "     Parameters:\n",
      "    -----------\n",
      "    ro : flt, arr\n",
      "        initial position vector at time = to; astropy unit object\n",
      "    vo : flt, arr\n",
      "        initial velocity vector at time = to; astropy unit object\n",
      "    t : flt\n",
      "        future time at which to compute new r,v vectors; \n",
      "        astropy unit object\n",
      "    k : flt\n",
      "        \"Kepler's constant\", k = G*(m1+m2); astropy unit object\n",
      "    to : flt\n",
      "        initial time for initial values.  Default = 0; \n",
      "        astropy unit object\n",
      "    \n",
      "    Returns:\n",
      "    --------\n",
      "    new_r : flt, arr\n",
      "        new position vector at time t in m\n",
      "    new_v : flt, arr\n",
      "        new velocity vector at time t in m/s\n",
      "\n"
     ]
    }
   ],
   "source": [
    "help(kepler_advancer)"
   ]
  },
  {
   "cell_type": "code",
   "execution_count": 29,
   "metadata": {},
   "outputs": [
    {
     "name": "stdout",
     "output_type": "stream",
     "text": [
      "pos_ka [4.59667636 2.77695674 3.09873226] AU\n",
      "pos_ktc [4.59665204 2.77696489 3.09870585] AU\n",
      "vel_ka [-1.38418293 10.18039854 -5.75435714] km / s\n",
      "vel_ktc [-1.3842811  10.18039569 -5.75444804] km / s\n"
     ]
    }
   ],
   "source": [
    "# Pick a future time:\n",
    "t2 = t + 3.*u.yr\n",
    "# Using pos1 and vel1 as inital values, and t as the initial value time,\n",
    "# compute new pos/vel vectors using kepler_advancer:\n",
    "pos_ka, vel_ka = kepler_advancer(pos1,vel1,t2,kep,to=t)\n",
    "\n",
    "# To check out work, let's use kepler_to_cartesian function to compute\n",
    "# the pos/vel at the new time using the known orbital elements:\n",
    "meanmotion = np.sqrt(kep/(sma**3)).to(1/u.s)\n",
    "meananom = meanmotion*((t2-to).to(u.s))\n",
    "pos_ktc, vel_ktc, acc_ktc = keplerian_to_cartesian(sma,ecc,inc,argp,lon,meananom.value,kep)\n",
    "\n",
    "print('pos_ka',pos_ka.to(u.AU))\n",
    "print('pos_ktc',pos_ktc)\n",
    "print('vel_ka',vel_ka.to(u.km/u.s))\n",
    "print('vel_ktc',vel_ktc)"
   ]
  },
  {
   "cell_type": "markdown",
   "metadata": {},
   "source": [
    "Looks good!"
   ]
  },
  {
   "cell_type": "code",
   "execution_count": null,
   "metadata": {},
   "outputs": [],
   "source": []
  }
 ],
 "metadata": {
  "kernelspec": {
   "display_name": "Python 3",
   "language": "python",
   "name": "python3"
  },
  "language_info": {
   "codemirror_mode": {
    "name": "ipython",
    "version": 3
   },
   "file_extension": ".py",
   "mimetype": "text/x-python",
   "name": "python",
   "nbconvert_exporter": "python",
   "pygments_lexer": "ipython3",
   "version": "3.7.0"
  }
 },
 "nbformat": 4,
 "nbformat_minor": 2
}
